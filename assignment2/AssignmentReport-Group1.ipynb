{
 "cells": [
  {
   "cell_type": "markdown",
   "metadata": {},
   "source": [
    "# Assignment 1 Report"
   ]
  },
  {
   "cell_type": "markdown",
   "metadata": {},
   "source": [
    "This is an outline for your report to ease the amount of work required to create your report. Jupyter notebook supports markdown, and I recommend you to check out this [cheat sheet](https://github.com/adam-p/markdown-here/wiki/Markdown-Cheatsheet). If you are not familiar with markdown.\n",
    "\n",
    "Before delivery, **remember to convert this file to PDF**. You can do it in two ways:\n",
    "1. Print the webpage (ctrl+P or cmd+P)\n",
    "2. Export with latex. This is somewhat more difficult, but you'll get somehwat of a \"prettier\" PDF. Go to File -> Download as -> PDF via LaTeX. You might have to install nbconvert and pandoc through conda; `conda install nbconvert pandoc`."
   ]
  },
  {
   "cell_type": "markdown",
   "metadata": {},
   "source": [
    "# Task 1"
   ]
  },
  {
   "cell_type": "markdown",
   "metadata": {},
   "source": [
    "## task 1a)\n",
    "![](/Users/aaryan/Desktop/6.-Semester/TDT4265/TDT4265_ComputerVision/assignment2/images/task1a1.jpg)\n",
    "![](/Users/aaryan/Desktop/6.-Semester/TDT4265/TDT4265_ComputerVision/assignment2/images/task1a2.jpg)\n",
    "![](/Users/aaryan/Desktop/6.-Semester/TDT4265/TDT4265_ComputerVision/assignment2/images/task1a3.jpg)"
   ]
  },
  {
   "cell_type": "markdown",
   "metadata": {},
   "source": [
    "## task 1a)\n",
    "\n",
    "Fill in task 1a image of hand-written notes which are easy to read, or latex equations here\n",
    "\n",
    "![](/Users/aaryan/Desktop/6.-Semester/TDT4265/TDT4265_ComputerVision/assignment2/images/task1b.jpg)"
   ]
  },
  {
   "cell_type": "markdown",
   "metadata": {},
   "source": [
    "# Task 2"
   ]
  },
  {
   "cell_type": "markdown",
   "metadata": {},
   "source": [
    "## Task 2c)\n",
    "![](/Users/aaryan/Desktop/6.-Semester/TDT4265/TDT4265_ComputerVision/assignment2/images/task2c_train_loss.png)"
   ]
  },
  {
   "cell_type": "markdown",
   "metadata": {},
   "source": [
    "## Task 2d)\n",
    "We have 784 pixels in each image as inputs + 1 bias parameter. Each of these have a weight to the neurons in the hidden layer, this results in 785*64 = 50 240. \n",
    "\n",
    "There is 64 layers in the hidden layer, and 10 output neurons, 64*10 + 640. This results in **50 880 total parameters**. "
   ]
  },
  {
   "cell_type": "markdown",
   "metadata": {},
   "source": [
    "# Task 3"
   ]
  },
  {
   "cell_type": "markdown",
   "metadata": {},
   "source": [
    "FILL IN ANSWER.\n",
    "Maybe include a loss / accuracy plot here?\n",
    "\n",
    "![](/Users/aaryan/Desktop/6.-Semester/TDT4265/TDT4265_ComputerVision/assignment2/images/task3_complete.png)\n",
    "\n",
    "We observed that each of the modifications we incorporated from the paper resulted in substantial improvements in both validation accuracy and the training loss convergence speed. With the early stopping mechanism in place, we noticed that superior models converged much more rapidly, requiring fewer iterations to reach optimal performance."
   ]
  },
  {
   "cell_type": "markdown",
   "metadata": {},
   "source": [
    "# Task 4"
   ]
  },
  {
   "cell_type": "markdown",
   "metadata": {},
   "source": [
    "## Task 4 a,b,c,d)\n",
    "![](/Users/aaryan/Desktop/6.-Semester/TDT4265/TDT4265_ComputerVision/assignment2/images/task4_model_topology_comparisons.png)\n",
    "\n",
    "\n",
    "\n",
    "a) We observed a notable difference in training loss, but the variance in validation accuracy was minimal. Specifically, the model with half the number of hidden nodes exhibited a higher training loss compared to its counterpart with more hidden nodes.\n",
    "\n",
    "b) We noticed minimal changes in both the valication accuracy and traning loss between the model in task 3 and the 128-node model in 4b. \n",
    "\n",
    "c) We noticed that both models showed nearly identical validation accuracy and training loss. This led us to suspect potential issues in our implementation of models with dynamic numbers of layers.\n",
    "\n",
    "d) This model did not reach the minimum accuracy required in the plot.\n",
    "\n",
    "When altering the number of nodes in a neural network, we can expect various effects on model performance. Generally, increasing the number of nodes can potentially enhance the model's capacity to learn complex patterns, leading to improved performance in terms of accuracy and reduced training loss. Conversely, decreasing the number of nodes may result in a simpler model that is less prone to overfitting but may sacrifice some accuracy. However, the exact impact on performance can vary depending on factors such as the complexity of the dataset, the architecture of the network, and the specific task at hand. "
   ]
  }
 ],
 "metadata": {
  "kernelspec": {
   "display_name": "Python 3.8.1 64-bit ('py38': conda)",
   "language": "python",
   "name": "python38164bitpy38condac1f68ca5407a4349b0d7e37676f2fbb3"
  },
  "language_info": {
   "codemirror_mode": {
    "name": "ipython",
    "version": 3
   },
   "file_extension": ".py",
   "mimetype": "text/x-python",
   "name": "python",
   "nbconvert_exporter": "python",
   "pygments_lexer": "ipython3",
   "version": "3.8.1"
  }
 },
 "nbformat": 4,
 "nbformat_minor": 4
}
